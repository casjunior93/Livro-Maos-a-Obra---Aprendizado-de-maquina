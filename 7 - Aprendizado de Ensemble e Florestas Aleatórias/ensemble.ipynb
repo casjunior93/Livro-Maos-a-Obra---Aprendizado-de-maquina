{
 "cells": [
  {
   "cell_type": "markdown",
   "metadata": {},
   "source": [
    "# Aprendizado Ensemble e Florestas aleatórias"
   ]
  },
  {
   "cell_type": "markdown",
   "metadata": {},
   "source": [
    "Se agregarmos as predições de um grupo de preditores (como classificadores ou regressores), iremos obter melhores predições do que com o melhor preditor individual. Um grupo de preditores é chamado de *ensemble* (agrupamento). Logo, essa técnica se chama *aprendizado emsemble* (1), e um algoritmo de aprendizado ensemble é chamado de *método ensemble*.\n",
    "\n",
    "Por exemplo, pode-se treinar um grupo de classificadores de uma árvore de decisão, cada um com um subconjunto aleatório diferente do conjunto de treinamento. Para efetuar as predições, obtem-se as predições de todas as árvores individuais e, em seguida, prediz a classe que obtém mais votos. Esse agrupamento de árvores de decisão se chama *Floresta aleatória*.\n",
    "\n",
    "Usa-se com frequência os métodos ensemble no fim de um projeto, para combinar preditores bons que já tenham sido criados e criar um ainda melhor.\n",
    "\n",
    "<small>(1) O termo aprendizado ensemble também é conhecido como aprendizagem por agrupamento ou por agregação.</small>"
   ]
  },
  {
   "cell_type": "markdown",
   "metadata": {},
   "source": [
    "## Classificadores de votação"
   ]
  },
  {
   "cell_type": "markdown",
   "metadata": {},
   "source": [
    "Pode-se ter um classificador de regressão logística, um classificador SVM, um classificador de floresta aleatória, um classificador k-enésimo vizinho mais próximo, e talvez mais alguns, cada um com uma acurácia de 80%. Uma forma simples de criar um classificador ainda melhor é agrupar as predições de cada classificador e predizer a classe que obtém mais votos. Esse classificador de predições de votos majoritários se chama classificador *hard voting*."
   ]
  },
  {
   "cell_type": "markdown",
   "metadata": {},
   "source": [
    "**Soft voting**: classifica os dados de entrada com base nas probabilidades de todas as previsões feitas por diferentes classificadores.\n",
    "\n",
    "**Hard voting**: classifica os dados de entrada com base na moda de todas as previsões feitas por diferentes classificadores."
   ]
  },
  {
   "cell_type": "markdown",
   "metadata": {},
   "source": [
    "Ainda que cada classificador seja um *weak learner* (aprendiz fraco), o que significa que é ligeiramente melhor que uma suposição ao acaso, o agrupamento ainda pode ser um *strong learn* (aprendiz forte) e atingir uma acurácia alta, desde que exista um número suficiente de aprendizes fracos e eles sejam bastante diversificados.\n",
    "\n",
    "Os métodos ensemble funcionam melhor quando os preditores são tão independentes dos outros quanto possivel. Uma forma de obter classificadores diversos é treiná-los usando algoritmos bastante diferentes. Isso aumenta a chance de eles cometerem erros com tipos muito diferentes, não correlacionados, melhorando a acurácia do agrupamento."
   ]
  },
  {
   "cell_type": "markdown",
   "metadata": {},
   "source": [
    "### Criando um classificador de votação com Scikit-Learn\n",
    "\n",
    "Criando um classificador de votação constituído por 3 classificadores diversos."
   ]
  },
  {
   "cell_type": "markdown",
   "metadata": {},
   "source": [
    "O dataset é o **Pima Indians Diabetes**. O objetivo é prever se um paciente desenvolverá ou não diabetes, com base em certas medidas de diagnóstico médico."
   ]
  },
  {
   "cell_type": "code",
   "execution_count": 1,
   "metadata": {},
   "outputs": [],
   "source": [
    "import pandas as pd\n",
    "import numpy as np\n",
    "import matplotlib.pyplot as plt\n",
    "import warnings\n",
    "warnings.filterwarnings('ignore')"
   ]
  },
  {
   "cell_type": "code",
   "execution_count": 2,
   "metadata": {},
   "outputs": [],
   "source": [
    "from sklearn.ensemble import RandomForestClassifier\n",
    "from sklearn.ensemble import VotingClassifier\n",
    "from sklearn.linear_model import LogisticRegression\n",
    "from sklearn.svm import SVC"
   ]
  },
  {
   "cell_type": "code",
   "execution_count": 3,
   "metadata": {},
   "outputs": [
    {
     "name": "stdout",
     "output_type": "stream",
     "text": [
      "-----------Missing---------------\n",
      "Missing: preg     0\n",
      "plas     0\n",
      "pres     0\n",
      "skin     0\n",
      "test     0\n",
      "mass     0\n",
      "pedi     0\n",
      "age      0\n",
      "class    0\n",
      "dtype: int64\n",
      "-----------Shape---------------\n",
      "Dimensões: (768, 9)\n"
     ]
    },
    {
     "data": {
      "text/html": [
       "<div>\n",
       "<style scoped>\n",
       "    .dataframe tbody tr th:only-of-type {\n",
       "        vertical-align: middle;\n",
       "    }\n",
       "\n",
       "    .dataframe tbody tr th {\n",
       "        vertical-align: top;\n",
       "    }\n",
       "\n",
       "    .dataframe thead th {\n",
       "        text-align: right;\n",
       "    }\n",
       "</style>\n",
       "<table border=\"1\" class=\"dataframe\">\n",
       "  <thead>\n",
       "    <tr style=\"text-align: right;\">\n",
       "      <th></th>\n",
       "      <th>preg</th>\n",
       "      <th>plas</th>\n",
       "      <th>pres</th>\n",
       "      <th>skin</th>\n",
       "      <th>test</th>\n",
       "      <th>mass</th>\n",
       "      <th>pedi</th>\n",
       "      <th>age</th>\n",
       "      <th>class</th>\n",
       "    </tr>\n",
       "  </thead>\n",
       "  <tbody>\n",
       "    <tr>\n",
       "      <th>0</th>\n",
       "      <td>6</td>\n",
       "      <td>148</td>\n",
       "      <td>72</td>\n",
       "      <td>35</td>\n",
       "      <td>0</td>\n",
       "      <td>33.6</td>\n",
       "      <td>0.627</td>\n",
       "      <td>50</td>\n",
       "      <td>1</td>\n",
       "    </tr>\n",
       "    <tr>\n",
       "      <th>1</th>\n",
       "      <td>1</td>\n",
       "      <td>85</td>\n",
       "      <td>66</td>\n",
       "      <td>29</td>\n",
       "      <td>0</td>\n",
       "      <td>26.6</td>\n",
       "      <td>0.351</td>\n",
       "      <td>31</td>\n",
       "      <td>0</td>\n",
       "    </tr>\n",
       "    <tr>\n",
       "      <th>2</th>\n",
       "      <td>8</td>\n",
       "      <td>183</td>\n",
       "      <td>64</td>\n",
       "      <td>0</td>\n",
       "      <td>0</td>\n",
       "      <td>23.3</td>\n",
       "      <td>0.672</td>\n",
       "      <td>32</td>\n",
       "      <td>1</td>\n",
       "    </tr>\n",
       "    <tr>\n",
       "      <th>3</th>\n",
       "      <td>1</td>\n",
       "      <td>89</td>\n",
       "      <td>66</td>\n",
       "      <td>23</td>\n",
       "      <td>94</td>\n",
       "      <td>28.1</td>\n",
       "      <td>0.167</td>\n",
       "      <td>21</td>\n",
       "      <td>0</td>\n",
       "    </tr>\n",
       "    <tr>\n",
       "      <th>4</th>\n",
       "      <td>0</td>\n",
       "      <td>137</td>\n",
       "      <td>40</td>\n",
       "      <td>35</td>\n",
       "      <td>168</td>\n",
       "      <td>43.1</td>\n",
       "      <td>2.288</td>\n",
       "      <td>33</td>\n",
       "      <td>1</td>\n",
       "    </tr>\n",
       "    <tr>\n",
       "      <th>5</th>\n",
       "      <td>5</td>\n",
       "      <td>116</td>\n",
       "      <td>74</td>\n",
       "      <td>0</td>\n",
       "      <td>0</td>\n",
       "      <td>25.6</td>\n",
       "      <td>0.201</td>\n",
       "      <td>30</td>\n",
       "      <td>0</td>\n",
       "    </tr>\n",
       "    <tr>\n",
       "      <th>6</th>\n",
       "      <td>3</td>\n",
       "      <td>78</td>\n",
       "      <td>50</td>\n",
       "      <td>32</td>\n",
       "      <td>88</td>\n",
       "      <td>31.0</td>\n",
       "      <td>0.248</td>\n",
       "      <td>26</td>\n",
       "      <td>1</td>\n",
       "    </tr>\n",
       "    <tr>\n",
       "      <th>7</th>\n",
       "      <td>10</td>\n",
       "      <td>115</td>\n",
       "      <td>0</td>\n",
       "      <td>0</td>\n",
       "      <td>0</td>\n",
       "      <td>35.3</td>\n",
       "      <td>0.134</td>\n",
       "      <td>29</td>\n",
       "      <td>0</td>\n",
       "    </tr>\n",
       "    <tr>\n",
       "      <th>8</th>\n",
       "      <td>2</td>\n",
       "      <td>197</td>\n",
       "      <td>70</td>\n",
       "      <td>45</td>\n",
       "      <td>543</td>\n",
       "      <td>30.5</td>\n",
       "      <td>0.158</td>\n",
       "      <td>53</td>\n",
       "      <td>1</td>\n",
       "    </tr>\n",
       "    <tr>\n",
       "      <th>9</th>\n",
       "      <td>8</td>\n",
       "      <td>125</td>\n",
       "      <td>96</td>\n",
       "      <td>0</td>\n",
       "      <td>0</td>\n",
       "      <td>0.0</td>\n",
       "      <td>0.232</td>\n",
       "      <td>54</td>\n",
       "      <td>1</td>\n",
       "    </tr>\n",
       "  </tbody>\n",
       "</table>\n",
       "</div>"
      ],
      "text/plain": [
       "   preg  plas  pres  skin  test  mass   pedi  age  class\n",
       "0     6   148    72    35     0  33.6  0.627   50      1\n",
       "1     1    85    66    29     0  26.6  0.351   31      0\n",
       "2     8   183    64     0     0  23.3  0.672   32      1\n",
       "3     1    89    66    23    94  28.1  0.167   21      0\n",
       "4     0   137    40    35   168  43.1  2.288   33      1\n",
       "5     5   116    74     0     0  25.6  0.201   30      0\n",
       "6     3    78    50    32    88  31.0  0.248   26      1\n",
       "7    10   115     0     0     0  35.3  0.134   29      0\n",
       "8     2   197    70    45   543  30.5  0.158   53      1\n",
       "9     8   125    96     0     0   0.0  0.232   54      1"
      ]
     },
     "execution_count": 3,
     "metadata": {},
     "output_type": "execute_result"
    }
   ],
   "source": [
    "url = 'https://raw.githubusercontent.com/jbrownlee/Datasets/master/pima-indians-diabetes.data.csv'\n",
    "colunas = ['preg', 'plas', 'pres', 'skin', 'test', 'mass', 'pedi', 'age', 'class']\n",
    "dataset = pd.read_csv(url, names=colunas, skiprows=0, delimiter=',')\n",
    "print(f'-----------Missing---------------')\n",
    "print(f'Missing: {dataset.isnull().sum()}')\n",
    "print(f'-----------Shape---------------')\n",
    "print(f'Dimensões: {dataset.shape}')\n",
    "dataset.head(10)"
   ]
  },
  {
   "cell_type": "code",
   "execution_count": 4,
   "metadata": {},
   "outputs": [
    {
     "data": {
      "text/html": [
       "<div>\n",
       "<style scoped>\n",
       "    .dataframe tbody tr th:only-of-type {\n",
       "        vertical-align: middle;\n",
       "    }\n",
       "\n",
       "    .dataframe tbody tr th {\n",
       "        vertical-align: top;\n",
       "    }\n",
       "\n",
       "    .dataframe thead th {\n",
       "        text-align: right;\n",
       "    }\n",
       "</style>\n",
       "<table border=\"1\" class=\"dataframe\">\n",
       "  <thead>\n",
       "    <tr style=\"text-align: right;\">\n",
       "      <th></th>\n",
       "      <th>preg</th>\n",
       "      <th>plas</th>\n",
       "      <th>pres</th>\n",
       "      <th>skin</th>\n",
       "      <th>test</th>\n",
       "      <th>mass</th>\n",
       "      <th>pedi</th>\n",
       "      <th>age</th>\n",
       "      <th>class</th>\n",
       "    </tr>\n",
       "  </thead>\n",
       "  <tbody>\n",
       "    <tr>\n",
       "      <th>count</th>\n",
       "      <td>768.000000</td>\n",
       "      <td>768.000000</td>\n",
       "      <td>768.000000</td>\n",
       "      <td>768.000000</td>\n",
       "      <td>768.000000</td>\n",
       "      <td>768.000000</td>\n",
       "      <td>768.000000</td>\n",
       "      <td>768.000000</td>\n",
       "      <td>768.000000</td>\n",
       "    </tr>\n",
       "    <tr>\n",
       "      <th>mean</th>\n",
       "      <td>3.845052</td>\n",
       "      <td>120.894531</td>\n",
       "      <td>69.105469</td>\n",
       "      <td>20.536458</td>\n",
       "      <td>79.799479</td>\n",
       "      <td>31.992578</td>\n",
       "      <td>0.471876</td>\n",
       "      <td>33.240885</td>\n",
       "      <td>0.348958</td>\n",
       "    </tr>\n",
       "    <tr>\n",
       "      <th>std</th>\n",
       "      <td>3.369578</td>\n",
       "      <td>31.972618</td>\n",
       "      <td>19.355807</td>\n",
       "      <td>15.952218</td>\n",
       "      <td>115.244002</td>\n",
       "      <td>7.884160</td>\n",
       "      <td>0.331329</td>\n",
       "      <td>11.760232</td>\n",
       "      <td>0.476951</td>\n",
       "    </tr>\n",
       "    <tr>\n",
       "      <th>min</th>\n",
       "      <td>0.000000</td>\n",
       "      <td>0.000000</td>\n",
       "      <td>0.000000</td>\n",
       "      <td>0.000000</td>\n",
       "      <td>0.000000</td>\n",
       "      <td>0.000000</td>\n",
       "      <td>0.078000</td>\n",
       "      <td>21.000000</td>\n",
       "      <td>0.000000</td>\n",
       "    </tr>\n",
       "    <tr>\n",
       "      <th>25%</th>\n",
       "      <td>1.000000</td>\n",
       "      <td>99.000000</td>\n",
       "      <td>62.000000</td>\n",
       "      <td>0.000000</td>\n",
       "      <td>0.000000</td>\n",
       "      <td>27.300000</td>\n",
       "      <td>0.243750</td>\n",
       "      <td>24.000000</td>\n",
       "      <td>0.000000</td>\n",
       "    </tr>\n",
       "    <tr>\n",
       "      <th>50%</th>\n",
       "      <td>3.000000</td>\n",
       "      <td>117.000000</td>\n",
       "      <td>72.000000</td>\n",
       "      <td>23.000000</td>\n",
       "      <td>30.500000</td>\n",
       "      <td>32.000000</td>\n",
       "      <td>0.372500</td>\n",
       "      <td>29.000000</td>\n",
       "      <td>0.000000</td>\n",
       "    </tr>\n",
       "    <tr>\n",
       "      <th>75%</th>\n",
       "      <td>6.000000</td>\n",
       "      <td>140.250000</td>\n",
       "      <td>80.000000</td>\n",
       "      <td>32.000000</td>\n",
       "      <td>127.250000</td>\n",
       "      <td>36.600000</td>\n",
       "      <td>0.626250</td>\n",
       "      <td>41.000000</td>\n",
       "      <td>1.000000</td>\n",
       "    </tr>\n",
       "    <tr>\n",
       "      <th>max</th>\n",
       "      <td>17.000000</td>\n",
       "      <td>199.000000</td>\n",
       "      <td>122.000000</td>\n",
       "      <td>99.000000</td>\n",
       "      <td>846.000000</td>\n",
       "      <td>67.100000</td>\n",
       "      <td>2.420000</td>\n",
       "      <td>81.000000</td>\n",
       "      <td>1.000000</td>\n",
       "    </tr>\n",
       "  </tbody>\n",
       "</table>\n",
       "</div>"
      ],
      "text/plain": [
       "             preg        plas        pres        skin        test        mass  \\\n",
       "count  768.000000  768.000000  768.000000  768.000000  768.000000  768.000000   \n",
       "mean     3.845052  120.894531   69.105469   20.536458   79.799479   31.992578   \n",
       "std      3.369578   31.972618   19.355807   15.952218  115.244002    7.884160   \n",
       "min      0.000000    0.000000    0.000000    0.000000    0.000000    0.000000   \n",
       "25%      1.000000   99.000000   62.000000    0.000000    0.000000   27.300000   \n",
       "50%      3.000000  117.000000   72.000000   23.000000   30.500000   32.000000   \n",
       "75%      6.000000  140.250000   80.000000   32.000000  127.250000   36.600000   \n",
       "max     17.000000  199.000000  122.000000   99.000000  846.000000   67.100000   \n",
       "\n",
       "             pedi         age       class  \n",
       "count  768.000000  768.000000  768.000000  \n",
       "mean     0.471876   33.240885    0.348958  \n",
       "std      0.331329   11.760232    0.476951  \n",
       "min      0.078000   21.000000    0.000000  \n",
       "25%      0.243750   24.000000    0.000000  \n",
       "50%      0.372500   29.000000    0.000000  \n",
       "75%      0.626250   41.000000    1.000000  \n",
       "max      2.420000   81.000000    1.000000  "
      ]
     },
     "execution_count": 4,
     "metadata": {},
     "output_type": "execute_result"
    }
   ],
   "source": [
    "dataset.describe(include='all')"
   ]
  },
  {
   "cell_type": "code",
   "execution_count": 5,
   "metadata": {},
   "outputs": [],
   "source": [
    "from sklearn.model_selection import train_test_split\n",
    "\n",
    "X_train, X_test, y_train, y_test = train_test_split(dataset[\n",
    "  ['preg', 'plas', 'pres', 'skin', 'test', 'mass', 'pedi', 'age']\n",
    "  ], dataset['class'], test_size=0.25, random_state=101)"
   ]
  },
  {
   "cell_type": "code",
   "execution_count": 6,
   "metadata": {},
   "outputs": [],
   "source": [
    "log_clf = LogisticRegression()\n",
    "rnd_clf = RandomForestClassifier()\n",
    "svm_clf = SVC()"
   ]
  },
  {
   "cell_type": "code",
   "execution_count": 7,
   "metadata": {},
   "outputs": [
    {
     "data": {
      "text/plain": [
       "VotingClassifier(estimators=[('lr', LogisticRegression()),\n",
       "                             ('rf', RandomForestClassifier()), ('svc', SVC())])"
      ]
     },
     "execution_count": 7,
     "metadata": {},
     "output_type": "execute_result"
    }
   ],
   "source": [
    "voting_clf = VotingClassifier(\n",
    "  estimators=[('lr', log_clf), ('rf', rnd_clf), ('svc', svm_clf)],\n",
    "  voting='hard'\n",
    ")\n",
    "\n",
    "voting_clf.fit(X_train, y_train)"
   ]
  },
  {
   "cell_type": "markdown",
   "metadata": {},
   "source": [
    "Vamos analizar a acurácia de cada classificador no conjunto de testes:"
   ]
  },
  {
   "cell_type": "code",
   "execution_count": 8,
   "metadata": {},
   "outputs": [],
   "source": [
    "from sklearn.metrics import accuracy_score"
   ]
  },
  {
   "cell_type": "code",
   "execution_count": 9,
   "metadata": {},
   "outputs": [
    {
     "name": "stdout",
     "output_type": "stream",
     "text": [
      "LogisticRegression 0.7916666666666666\n",
      "RandomForestClassifier 0.7760416666666666\n",
      "SVC 0.7916666666666666\n",
      "VotingClassifier 0.796875\n"
     ]
    }
   ],
   "source": [
    "for clf in (log_clf, rnd_clf, svm_clf, voting_clf):\n",
    "  clf.fit(X_train, y_train)\n",
    "  y_pred = clf.predict(X_test)\n",
    "  print(clf.__class__.__name__, accuracy_score(y_test, y_pred))\n"
   ]
  },
  {
   "cell_type": "markdown",
   "metadata": {},
   "source": [
    "O classificador de votação desbanca ligeiramente todos os classificadores individuais!"
   ]
  },
  {
   "cell_type": "markdown",
   "metadata": {},
   "source": [
    "## Bagging e Pasting"
   ]
  },
  {
   "cell_type": "markdown",
   "metadata": {},
   "source": [
    "Uma forma de obter um conjunto diversificado  de classificadores é utilizar algoritmos de treinamentos diferentes, como acima. Outra forma é usar o mesmo algoritmo de treinamento para todos os preditores e treiná-los com diferentes subconjuntos aléatórios do conjunto de treinamento."
   ]
  },
  {
   "cell_type": "markdown",
   "metadata": {},
   "source": [
    "Quando a amostragem é realizada com substituição, esse método chama-se *bagging*. Quando a amostragem é realizada sem substituição chama-se *pasting*."
   ]
  },
  {
   "cell_type": "markdown",
   "metadata": {},
   "source": [
    "A amostragem aleatória é chamada de *bootstrapping*. Em essência, bootstrapping é uma amostragem aleatória com substituição dos dados de treinamento disponíveis. Bagging (= agregação de bootstrap) é executá-lo muitas vezes e treinar um estimador para cada conjunto de dados bootstrap."
   ]
  },
  {
   "cell_type": "markdown",
   "metadata": {},
   "source": [
    "A função de agragação é normalmente uma *moda estatística* (ou seja, a predição mais frequente, como em um classificador de hard voting) para classificação ou a média para a regressão."
   ]
  },
  {
   "cell_type": "markdown",
   "metadata": {},
   "source": [
    "### Bagging e pasting no Scikit-Learn"
   ]
  },
  {
   "cell_type": "markdown",
   "metadata": {},
   "source": [
    "Este código treina um conjunto de 500 classificadores da árvore de decisão. Cada classificador é treinado em 100 instâncias de treinamento submetidas a amostras aleatórias no conjunto de treinamento com substituição. Caso se queira usar o pasting, basta definir bootstrap = False. O parâmetro n_jobs informa à Scikit-Learn o número de núcleos da CPU a serem usados para  treinamento e para as predições (-1 informa para utilizar todos os núcleos disponíveis)."
   ]
  },
  {
   "cell_type": "code",
   "execution_count": 10,
   "metadata": {},
   "outputs": [],
   "source": [
    "from sklearn.ensemble import BaggingClassifier\n",
    "from sklearn.tree import DecisionTreeClassifier"
   ]
  },
  {
   "cell_type": "code",
   "execution_count": 11,
   "metadata": {},
   "outputs": [
    {
     "name": "stdout",
     "output_type": "stream",
     "text": [
      "Acuracia: 0.7760416666666666\n"
     ]
    }
   ],
   "source": [
    "bag_clf = BaggingClassifier(\n",
    "  DecisionTreeClassifier(), n_estimators=500,\n",
    "  max_samples=100, bootstrap=True, n_jobs=-1\n",
    ")\n",
    "\n",
    "bag_clf.fit(X_train, y_train)\n",
    "y_pred = bag_clf.predict(X_test)\n",
    "print(f'Acuracia: {accuracy_score(y_test, y_pred)}')"
   ]
  },
  {
   "cell_type": "markdown",
   "metadata": {},
   "source": [
    "O BaggingClassifier executa automaticamento o *soft voting*  se o classificador-base conseguir estimar as probabilidades de classe (ou seja, se tiver um método predict_proba(), como é o caso das árvores de decisão)."
   ]
  },
  {
   "cell_type": "markdown",
   "metadata": {},
   "source": [
    "### Distribuição de probabilidade"
   ]
  },
  {
   "cell_type": "markdown",
   "metadata": {},
   "source": [
    "O método predict_proba aceita um único argumento que corresponde aos dados sobre os quais as probabilidades serão calculadas e retorna uma matriz de listas contendo as probabilidades de classe para os pontos de dados de entrada."
   ]
  },
  {
   "cell_type": "code",
   "execution_count": 12,
   "metadata": {},
   "outputs": [
    {
     "data": {
      "text/plain": [
       "array([[0.552, 0.448],\n",
       "       [0.134, 0.866],\n",
       "       [0.828, 0.172],\n",
       "       [0.584, 0.416],\n",
       "       [0.832, 0.168],\n",
       "       [0.252, 0.748],\n",
       "       [0.194, 0.806],\n",
       "       [0.804, 0.196],\n",
       "       [0.592, 0.408],\n",
       "       [0.73 , 0.27 ],\n",
       "       [0.99 , 0.01 ],\n",
       "       [0.918, 0.082],\n",
       "       [0.714, 0.286],\n",
       "       [0.55 , 0.45 ],\n",
       "       [0.74 , 0.26 ],\n",
       "       [0.252, 0.748],\n",
       "       [0.232, 0.768],\n",
       "       [0.89 , 0.11 ],\n",
       "       [0.512, 0.488],\n",
       "       [0.984, 0.016],\n",
       "       [0.764, 0.236],\n",
       "       [0.694, 0.306],\n",
       "       [0.408, 0.592],\n",
       "       [0.644, 0.356],\n",
       "       [0.836, 0.164],\n",
       "       [0.166, 0.834],\n",
       "       [0.938, 0.062],\n",
       "       [0.54 , 0.46 ],\n",
       "       [1.   , 0.   ],\n",
       "       [0.456, 0.544],\n",
       "       [0.254, 0.746],\n",
       "       [0.488, 0.512],\n",
       "       [0.566, 0.434],\n",
       "       [0.544, 0.456],\n",
       "       [0.844, 0.156],\n",
       "       [0.898, 0.102],\n",
       "       [0.624, 0.376],\n",
       "       [0.366, 0.634],\n",
       "       [0.218, 0.782],\n",
       "       [0.926, 0.074],\n",
       "       [0.918, 0.082],\n",
       "       [0.508, 0.492],\n",
       "       [0.906, 0.094],\n",
       "       [0.456, 0.544],\n",
       "       [0.94 , 0.06 ],\n",
       "       [0.936, 0.064],\n",
       "       [0.482, 0.518],\n",
       "       [0.802, 0.198],\n",
       "       [0.526, 0.474],\n",
       "       [0.94 , 0.06 ],\n",
       "       [0.894, 0.106],\n",
       "       [0.736, 0.264],\n",
       "       [0.798, 0.202],\n",
       "       [0.666, 0.334],\n",
       "       [0.88 , 0.12 ],\n",
       "       [0.854, 0.146],\n",
       "       [0.69 , 0.31 ],\n",
       "       [0.788, 0.212],\n",
       "       [0.466, 0.534],\n",
       "       [0.912, 0.088],\n",
       "       [0.81 , 0.19 ],\n",
       "       [0.462, 0.538],\n",
       "       [0.166, 0.834],\n",
       "       [0.672, 0.328],\n",
       "       [0.658, 0.342],\n",
       "       [0.348, 0.652],\n",
       "       [0.792, 0.208],\n",
       "       [0.874, 0.126],\n",
       "       [0.972, 0.028],\n",
       "       [0.804, 0.196],\n",
       "       [0.214, 0.786],\n",
       "       [0.91 , 0.09 ],\n",
       "       [0.718, 0.282],\n",
       "       [0.702, 0.298],\n",
       "       [0.408, 0.592],\n",
       "       [0.16 , 0.84 ],\n",
       "       [0.946, 0.054],\n",
       "       [0.39 , 0.61 ],\n",
       "       [0.956, 0.044],\n",
       "       [0.464, 0.536],\n",
       "       [0.308, 0.692],\n",
       "       [0.98 , 0.02 ],\n",
       "       [0.494, 0.506],\n",
       "       [0.374, 0.626],\n",
       "       [0.25 , 0.75 ],\n",
       "       [0.958, 0.042],\n",
       "       [0.722, 0.278],\n",
       "       [0.754, 0.246],\n",
       "       [0.084, 0.916],\n",
       "       [0.136, 0.864],\n",
       "       [0.274, 0.726],\n",
       "       [0.598, 0.402],\n",
       "       [0.558, 0.442],\n",
       "       [0.87 , 0.13 ],\n",
       "       [0.788, 0.212],\n",
       "       [0.75 , 0.25 ],\n",
       "       [0.836, 0.164],\n",
       "       [0.96 , 0.04 ],\n",
       "       [0.16 , 0.84 ],\n",
       "       [0.264, 0.736],\n",
       "       [0.524, 0.476],\n",
       "       [0.892, 0.108],\n",
       "       [0.862, 0.138],\n",
       "       [0.648, 0.352],\n",
       "       [0.828, 0.172],\n",
       "       [0.962, 0.038],\n",
       "       [0.818, 0.182],\n",
       "       [0.708, 0.292],\n",
       "       [0.906, 0.094],\n",
       "       [0.972, 0.028],\n",
       "       [0.276, 0.724],\n",
       "       [0.91 , 0.09 ],\n",
       "       [0.992, 0.008],\n",
       "       [0.98 , 0.02 ],\n",
       "       [0.38 , 0.62 ],\n",
       "       [0.352, 0.648],\n",
       "       [0.778, 0.222],\n",
       "       [0.73 , 0.27 ],\n",
       "       [0.844, 0.156],\n",
       "       [0.688, 0.312],\n",
       "       [0.464, 0.536],\n",
       "       [0.742, 0.258],\n",
       "       [0.904, 0.096],\n",
       "       [0.408, 0.592],\n",
       "       [0.386, 0.614],\n",
       "       [0.442, 0.558],\n",
       "       [0.798, 0.202],\n",
       "       [0.642, 0.358],\n",
       "       [0.788, 0.212],\n",
       "       [0.772, 0.228],\n",
       "       [0.96 , 0.04 ],\n",
       "       [0.23 , 0.77 ],\n",
       "       [0.556, 0.444],\n",
       "       [0.522, 0.478],\n",
       "       [0.632, 0.368],\n",
       "       [0.75 , 0.25 ],\n",
       "       [0.688, 0.312],\n",
       "       [0.774, 0.226],\n",
       "       [0.996, 0.004],\n",
       "       [0.992, 0.008],\n",
       "       [0.988, 0.012],\n",
       "       [0.386, 0.614],\n",
       "       [0.476, 0.524],\n",
       "       [0.156, 0.844],\n",
       "       [0.588, 0.412],\n",
       "       [0.65 , 0.35 ],\n",
       "       [0.428, 0.572],\n",
       "       [0.978, 0.022],\n",
       "       [0.388, 0.612],\n",
       "       [0.206, 0.794],\n",
       "       [0.784, 0.216],\n",
       "       [0.392, 0.608],\n",
       "       [0.758, 0.242],\n",
       "       [0.614, 0.386],\n",
       "       [0.876, 0.124],\n",
       "       [0.23 , 0.77 ],\n",
       "       [0.606, 0.394],\n",
       "       [0.628, 0.372],\n",
       "       [0.932, 0.068],\n",
       "       [0.618, 0.382],\n",
       "       [0.654, 0.346],\n",
       "       [0.636, 0.364],\n",
       "       [0.986, 0.014],\n",
       "       [0.21 , 0.79 ],\n",
       "       [0.586, 0.414],\n",
       "       [0.542, 0.458],\n",
       "       [0.992, 0.008],\n",
       "       [0.074, 0.926],\n",
       "       [0.392, 0.608],\n",
       "       [0.802, 0.198],\n",
       "       [0.616, 0.384],\n",
       "       [0.234, 0.766],\n",
       "       [0.962, 0.038],\n",
       "       [0.396, 0.604],\n",
       "       [0.636, 0.364],\n",
       "       [0.858, 0.142],\n",
       "       [0.886, 0.114],\n",
       "       [0.726, 0.274],\n",
       "       [0.43 , 0.57 ],\n",
       "       [0.932, 0.068],\n",
       "       [0.342, 0.658],\n",
       "       [0.142, 0.858],\n",
       "       [0.534, 0.466],\n",
       "       [0.262, 0.738],\n",
       "       [0.956, 0.044],\n",
       "       [0.914, 0.086],\n",
       "       [0.926, 0.074],\n",
       "       [0.74 , 0.26 ],\n",
       "       [0.32 , 0.68 ],\n",
       "       [0.502, 0.498],\n",
       "       [0.266, 0.734],\n",
       "       [0.682, 0.318]])"
      ]
     },
     "execution_count": 12,
     "metadata": {},
     "output_type": "execute_result"
    }
   ],
   "source": [
    "bag_clf_predict = bag_clf.predict_proba(X_test)\n",
    "bag_clf_predict"
   ]
  },
  {
   "cell_type": "code",
   "execution_count": 13,
   "metadata": {},
   "outputs": [],
   "source": [
    "bag_clf_predict = bag_clf.predict_proba(X_test)[:,1]"
   ]
  },
  {
   "cell_type": "code",
   "execution_count": 14,
   "metadata": {},
   "outputs": [
    {
     "data": {
      "image/png": "[encoded data removed]",
      "text/plain": [
       "<Figure size 1080x504 with 1 Axes>"
      ]
     },
     "metadata": {
      "needs_background": "light"
     },
     "output_type": "display_data"
    }
   ],
   "source": [
    "plt.figure(figsize=(15,7))\n",
    "plt.hist(bag_clf_predict[y_test==0], bins=50, label='Negativo')\n",
    "plt.hist(bag_clf_predict[y_test==1], bins=50, label='Positivo', alpha=0.7, color='r')\n",
    "plt.xlabel('Probabilidade de ser diabético', fontsize=25)\n",
    "plt.ylabel('Frequência', fontsize=25)\n",
    "plt.legend(fontsize=15)\n",
    "plt.tick_params(axis='both', labelsize=25, pad=5)\n",
    "plt.show()"
   ]
  },
  {
   "cell_type": "code",
   "execution_count": null,
   "metadata": {},
   "outputs": [],
   "source": []
  }
 ],
 "metadata": {
  "interpreter": {
   "hash": "5f23c331dcc0e959a18d97d72b32723b8e8fefc4a029dc171226f15b89161c30"
  },
  "kernelspec": {
   "display_name": "Python 3 (ipykernel)",
   "language": "python",
   "name": "python3"
  },
  "language_info": {
   "codemirror_mode": {
    "name": "ipython",
    "version": 3
   },
   "file_extension": ".py",
   "mimetype": "text/x-python",
   "name": "python",
   "nbconvert_exporter": "python",
   "pygments_lexer": "ipython3",
   "version": "3.9.7"
  }
 },
 "nbformat": 4,
 "nbformat_minor": 4
}
